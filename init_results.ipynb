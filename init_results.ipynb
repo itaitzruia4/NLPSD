{
 "cells": [
  {
   "cell_type": "code",
   "execution_count": 9,
   "metadata": {},
   "outputs": [
    {
     "name": "stdout",
     "output_type": "stream",
     "text": [
      "Collecting requests\n",
      "  Downloading requests-2.31.0-py3-none-any.whl (62 kB)\n",
      "     -------------------------------------- 62.6/62.6 kB 480.1 kB/s eta 0:00:00\n",
      "Collecting charset-normalizer<4,>=2\n",
      "  Downloading charset_normalizer-3.1.0-cp311-cp311-win_amd64.whl (96 kB)\n",
      "     ---------------------------------------- 96.7/96.7 kB 1.8 MB/s eta 0:00:00\n",
      "Collecting idna<4,>=2.5\n",
      "  Downloading idna-3.4-py3-none-any.whl (61 kB)\n",
      "     -------------------------------------- 61.5/61.5 kB 470.6 kB/s eta 0:00:00\n",
      "Collecting urllib3<3,>=1.21.1\n",
      "  Downloading urllib3-2.0.3-py3-none-any.whl (123 kB)\n",
      "     -------------------------------------- 123.6/123.6 kB 1.5 MB/s eta 0:00:00\n",
      "Collecting certifi>=2017.4.17\n",
      "  Downloading certifi-2023.5.7-py3-none-any.whl (156 kB)\n",
      "     ------------------------------------ 157.0/157.0 kB 447.3 kB/s eta 0:00:00\n",
      "Installing collected packages: urllib3, idna, charset-normalizer, certifi, requests\n",
      "Successfully installed certifi-2023.5.7 charset-normalizer-3.1.0 idna-3.4 requests-2.31.0 urllib3-2.0.3\n",
      "Note: you may need to restart the kernel to use updated packages.\n"
     ]
    },
    {
     "name": "stderr",
     "output_type": "stream",
     "text": [
      "\n",
      "[notice] A new release of pip available: 22.3.1 -> 23.1.2\n",
      "[notice] To update, run: python.exe -m pip install --upgrade pip\n"
     ]
    }
   ],
   "source": [
    "%pip install requests"
   ]
  },
  {
   "cell_type": "code",
   "execution_count": 10,
   "metadata": {},
   "outputs": [],
   "source": [
    "import pickle\n",
    "import matplotlib.pyplot as plt\n",
    "import numpy as np\n",
    "import pandas as pd\n",
    "from utils import *\n",
    "\n",
    "from protocol_getter import ProtocolGetter"
   ]
  },
  {
   "cell_type": "code",
   "execution_count": 3,
   "metadata": {},
   "outputs": [],
   "source": [
    "knesset_members_df = pd.read_csv('kns_csv_files\\kns_person.csv')\n",
    "first_names, last_names = knesset_members_df['FirstName'].to_list(), knesset_members_df['LastName'].to_list()\n",
    "knesset_members = [' '.join([first_name, last_name]) for first_name, last_name in zip(first_names, last_names)]"
   ]
  },
  {
   "cell_type": "code",
   "execution_count": 6,
   "metadata": {},
   "outputs": [
    {
     "data": {
      "text/plain": [
       "[571273,\n",
       " 571851,\n",
       " 572675,\n",
       " 575804,\n",
       " 576198,\n",
       " 576237,\n",
       " 576300,\n",
       " 577328,\n",
       " 577644,\n",
       " 577650,\n",
       " 577831,\n",
       " 578064,\n",
       " 578212,\n",
       " 578586,\n",
       " 578587,\n",
       " 578695,\n",
       " 578753,\n",
       " 2005883,\n",
       " 2005886,\n",
       " 2006308,\n",
       " 2006840,\n",
       " 2007685,\n",
       " 2008621,\n",
       " 2009585,\n",
       " 2010077,\n",
       " 2010807,\n",
       " 2010822,\n",
       " 2012271,\n",
       " 2013583,\n",
       " 2013669,\n",
       " 2015053,\n",
       " 2015864,\n",
       " 2015869,\n",
       " 2016504,\n",
       " 2016522,\n",
       " 2016615,\n",
       " 2016616,\n",
       " 2016827,\n",
       " 2017010,\n",
       " 2017389,\n",
       " 2017439,\n",
       " 2017884,\n",
       " 2018484,\n",
       " 2018516,\n",
       " 2018785,\n",
       " 2018904,\n",
       " 2018996,\n",
       " 2019321,\n",
       " 2019474,\n",
       " 2019491,\n",
       " 2019802,\n",
       " 2020086,\n",
       " 2020707,\n",
       " 2021174,\n",
       " 2022373,\n",
       " 2022423,\n",
       " 2022435,\n",
       " 2022556,\n",
       " 2022636,\n",
       " 2022857,\n",
       " 2022862,\n",
       " 2023264,\n",
       " 2023480,\n",
       " 2023677,\n",
       " 2024054,\n",
       " 2024545,\n",
       " 2024866,\n",
       " 2025036,\n",
       " 2025570,\n",
       " 2025592,\n",
       " 2063363,\n",
       " 2063424,\n",
       " 2064207,\n",
       " 2064556,\n",
       " 2064560,\n",
       " 2064983,\n",
       " 2065255,\n",
       " 2065644,\n",
       " 2065844,\n",
       " 2065940,\n",
       " 2065949,\n",
       " 2066035,\n",
       " 2066227,\n",
       " 2066239,\n",
       " 2067948,\n",
       " 2068029,\n",
       " 2068148,\n",
       " 2068226,\n",
       " 2068266,\n",
       " 2068861,\n",
       " 2069218,\n",
       " 2069771,\n",
       " 2069813,\n",
       " 2070373,\n",
       " 2070421,\n",
       " 2070689,\n",
       " 2070910,\n",
       " 2071418,\n",
       " 2071464,\n",
       " 2071811,\n",
       " 2071816,\n",
       " 2072155,\n",
       " 2072324,\n",
       " 2072554,\n",
       " 2072628,\n",
       " 2073679,\n",
       " 2074811,\n",
       " 2075088,\n",
       " 2075378,\n",
       " 2075557,\n",
       " 2075935,\n",
       " 2076008,\n",
       " 2076294,\n",
       " 2076696,\n",
       " 2076830,\n",
       " 2076884,\n",
       " 2076925,\n",
       " 2076953,\n",
       " 2077001,\n",
       " 2077228,\n",
       " 2077732,\n",
       " 2077759,\n",
       " 2077940,\n",
       " 2078161,\n",
       " 2078162,\n",
       " 2078208,\n",
       " 2078319,\n",
       " 2078464]"
      ]
     },
     "execution_count": 6,
     "metadata": {},
     "output_type": "execute_result"
    }
   ],
   "source": [
    "import pandas as pd\n",
    "\n",
    "cms = pd.read_csv(\"kns_csv_files\\kns_committeesession.csv\")\n",
    "\n",
    "filtered = cms\n",
    "filtered = filtered[filtered.CommitteeID == 929]\n",
    "filtered = filtered[[\"CommitteeSessionID\", \"text_parsed_filename\"]].dropna()[\"CommitteeSessionID\"].tolist()\n",
    "filtered"
   ]
  },
  {
   "cell_type": "code",
   "execution_count": 29,
   "metadata": {},
   "outputs": [],
   "source": [
    "path = \"results/\"\n",
    "knss = [20, 21, 22, 23, 24, 25]\n",
    "categorys = [4]\n",
    "agg_scores = []\n",
    "warned = []\n",
    "kns_cat = []\n",
    "knastot = {}\n",
    "catagor = {}\n",
    "cms = pd.read_csv(\"kns_csv_files\\kns_committeesession.csv\")\n",
    "\n",
    "for kns in knss:\n",
    "    for cat in categorys:\n",
    "        protocol_getter = ProtocolGetter(COMMITTEES_PATH, kns, kns, [cat])\n",
    "        committee = protocol_getter.committee_ids[0]\n",
    "        filtered = cms\n",
    "        filtered = filtered[filtered.CommitteeID == committee]\n",
    "        sesseions = filtered[[\"CommitteeSessionID\", \"text_parsed_filename\"]].dropna()[\"CommitteeSessionID\"].tolist()\n",
    "        agg_scores_per_sess = []\n",
    "        for session in sesseions:\n",
    "            try:\n",
    "                with open(f'{path}finetune_{session}.pkl', 'rb') as f:\n",
    "                    tmp_dct = pickle.load(f)\n",
    "            except FileNotFoundError:\n",
    "                continue\n",
    "\n",
    "            warnings = tmp_dct['warnings']\n",
    "            for member, w1w2w3 in warnings.items():\n",
    "                if sum(w1w2w3) != 0 and member in knesset_members:\n",
    "                    warned.append((member, w1w2w3, kns, CATEGORY_ID_TO_NAME[cat], session))\n",
    "            agg_score = tmp_dct['agg_score']\n",
    "            agg_scores_per_sess.append(agg_score)\n",
    "        avg_agg_score = np.mean(agg_scores_per_sess)\n",
    "        agg_scores.append(avg_agg_score)\n",
    "        kns_cat.append(f'{kns}_{CATEGORY_ID_TO_NAME[cat]}')\n",
    "        tmp_val = knastot.get(kns, [])\n",
    "        tmp_val.append(avg_agg_score)\n",
    "        knastot[kns] = tmp_val\n",
    "        catagor[CATEGORY_ID_TO_NAME[cat]] = tmp_val\n",
    "\n",
    "avg_knasot = {}\n",
    "for kns, agg_lst in knastot.items():\n",
    "    avg_knasot[str(kns)] = np.average(agg_lst)\n",
    "avg_cat = {}\n",
    "for cat, agg_lst in catagor.items():\n",
    "    avg_cat[cat] = np.average(agg_lst)"
   ]
  },
  {
   "cell_type": "code",
   "execution_count": 30,
   "metadata": {},
   "outputs": [
    {
     "data": {
      "text/plain": [
       "[('עפר שלח', [0, 2, 0], 20, 'defense', 2077732),\n",
       " ('יואב קיש', [2, 0, 0], 21, 'defense', 2080811),\n",
       " ('אורנה ברביבאי', [4, 0, 0], 21, 'defense', 2080938),\n",
       " ('אוסאמה סעדי', [0, 2, 0], 23, 'defense', 2087465),\n",
       " ('עוזי דיין', [2, 0, 0], 23, 'defense', 2140053),\n",
       " ('שרן מרים השכל', [1, 0, 0], 23, 'defense', 2140652),\n",
       " ('מתן כהנא', [2, 0, 0], 23, 'defense', 2140881),\n",
       " ('אבי דיכטר', [0, 2, 0], 23, 'defense', 2143064),\n",
       " ('אורית מלכה סטרוק', [1, 0, 0], 24, 'defense', 2158429),\n",
       " ('שלמה קרעי', [2, 0, 0], 24, 'defense', 2158429),\n",
       " ('איתמר בן גביר', [2, 4, 0], 24, 'defense', 2159912),\n",
       " ('איתמר בן גביר', [0, 2, 2], 24, 'defense', 2162230),\n",
       " ('משה אבוטבול', [2, 0, 0], 24, 'defense', 2166772),\n",
       " ('אוסאמה סעדי', [4, 2, 0], 24, 'defense', 2189624),\n",
       " ('אחמד טיבי', [2, 0, 0], 24, 'defense', 2190842),\n",
       " ('אורית מלכה סטרוק', [1, 3, 0], 24, 'defense', 2191287),\n",
       " ('יואב קיש', [2, 0, 0], 24, 'defense', 2191287),\n",
       " ('צבי האוזר', [6, 0, 0], 24, 'defense', 2191287),\n",
       " ('שלמה קרעי', [0, 0, 4], 24, 'defense', 2191287),\n",
       " ('עמיחי שיקלי', [2, 0, 0], 24, 'defense', 2191287),\n",
       " ('איתמר בן גביר', [2, 0, 0], 24, 'defense', 2191287),\n",
       " ('שמחה רוטמן', [0, 2, 0], 24, 'defense', 2191287),\n",
       " ('יוסף שיין', [2, 0, 0], 24, 'defense', 2191476),\n",
       " ('אופיר אקוניס', [2, 0, 0], 24, 'defense', 2192774),\n",
       " ('יואב קיש', [0, 2, 0], 24, 'defense', 2193677),\n",
       " ('איתמר בן גביר', [0, 2, 0], 24, 'defense', 2193677)]"
      ]
     },
     "execution_count": 30,
     "metadata": {},
     "output_type": "execute_result"
    }
   ],
   "source": [
    "warned"
   ]
  },
  {
   "cell_type": "code",
   "execution_count": 31,
   "metadata": {},
   "outputs": [],
   "source": [
    "ind = 0\n",
    "knasots = {}\n",
    "for k_c in kns_cat:\n",
    "    a = k_c[:2]\n",
    "    tmp = knasots.get(a, [[], []])\n",
    "    tmp[0].append(k_c)\n",
    "    tmp[1].append(agg_scores[ind])\n",
    "    knasots[a] = tmp\n",
    "    ind += 1\n"
   ]
  },
  {
   "cell_type": "code",
   "execution_count": 32,
   "metadata": {},
   "outputs": [
    {
     "data": {
      "text/plain": [
       "{'defense': 0.23115586256903428}"
      ]
     },
     "execution_count": 32,
     "metadata": {},
     "output_type": "execute_result"
    }
   ],
   "source": [
    "avg_cat"
   ]
  },
  {
   "cell_type": "code",
   "execution_count": 33,
   "metadata": {},
   "outputs": [
    {
     "data": {
      "text/plain": [
       "{'20': [['20_defense'], [0.25995444256257894]],\n",
       " '21': [['21_defense'], [0.2496423007320386]],\n",
       " '22': [['22_defense'], [0.16863808767633837]],\n",
       " '23': [['23_defense'], [0.23670878762208913]],\n",
       " '24': [['24_defense'], [0.26015820905594667]],\n",
       " '25': [['25_defense'], [0.23115586256903428]]}"
      ]
     },
     "execution_count": 33,
     "metadata": {},
     "output_type": "execute_result"
    }
   ],
   "source": [
    "knasots"
   ]
  },
  {
   "cell_type": "code",
   "execution_count": 34,
   "metadata": {},
   "outputs": [
    {
     "data": {
      "image/png": "[encoded data removed]",
      "text/plain": [
       "<Figure size 640x480 with 1 Axes>"
      ]
     },
     "metadata": {},
     "output_type": "display_data"
    }
   ],
   "source": [
    "for kns, duo in knasots.items():\n",
    "    plt.bar(duo[0], duo[1], label= f'knesset_#{kns}')\n",
    "plt.ylabel(\"aggressive score\")\n",
    "plt.legend(bbox_to_anchor=(-0.1, 1.1))\n",
    "plt.show()"
   ]
  },
  {
   "cell_type": "code",
   "execution_count": 35,
   "metadata": {},
   "outputs": [
    {
     "data": {
      "text/plain": [
       "Text(0, 0.5, 'aggressive score')"
      ]
     },
     "execution_count": 35,
     "metadata": {},
     "output_type": "execute_result"
    },
    {
     "data": {
      "image/png": "[encoded data removed]",
      "text/plain": [
       "<Figure size 640x480 with 1 Axes>"
      ]
     },
     "metadata": {},
     "output_type": "display_data"
    }
   ],
   "source": [
    "plt.bar(avg_knasot.keys(), avg_knasot.values())\n",
    "plt.xlabel(\"knesset number\")\n",
    "plt.ylabel(\"aggressive score\")"
   ]
  },
  {
   "cell_type": "code",
   "execution_count": 36,
   "metadata": {},
   "outputs": [
    {
     "data": {
      "text/plain": [
       "Text(0, 0.5, 'aggressive score')"
      ]
     },
     "execution_count": 36,
     "metadata": {},
     "output_type": "execute_result"
    },
    {
     "data": {
      "image/png": "[encoded data removed]",
      "text/plain": [
       "<Figure size 640x480 with 1 Axes>"
      ]
     },
     "metadata": {},
     "output_type": "display_data"
    }
   ],
   "source": [
    "plt.bar(avg_cat.keys(), avg_cat.values())\n",
    "plt.xlabel(\"committee\")\n",
    "plt.ylabel(\"aggressive score\")"
   ]
  },
  {
   "cell_type": "code",
   "execution_count": 47,
   "metadata": {},
   "outputs": [
    {
     "data": {
      "text/plain": [
       "[('מיקי לוי', [1, 0, 0], 24, 'finance')]"
      ]
     },
     "execution_count": 47,
     "metadata": {},
     "output_type": "execute_result"
    }
   ],
   "source": [
    "warned"
   ]
  },
  {
   "cell_type": "code",
   "execution_count": 52,
   "metadata": {},
   "outputs": [
    {
     "data": {
      "text/plain": [
       "Text(0, 0.5, 'sum of warnings')"
      ]
     },
     "execution_count": 52,
     "metadata": {},
     "output_type": "execute_result"
    },
    {
     "data": {
      "image/png": "[encoded data removed]",
      "text/plain": [
       "<Figure size 640x480 with 1 Axes>"
      ]
     },
     "metadata": {},
     "output_type": "display_data"
    }
   ],
   "source": [
    "for member, w1w2w3, kns, cat in warned:\n",
    "    plt.bar(f'{member[::-1]} \\n kns_number: {kns} \\n comittee: {cat} \\n warned: {w1w2w3}', sum(w1w2w3))\n",
    "plt.ylabel(\"sum of warnings\")"
   ]
  }
 ],
 "metadata": {
  "kernelspec": {
   "display_name": "base",
   "language": "python",
   "name": "python3"
  },
  "language_info": {
   "codemirror_mode": {
    "name": "ipython",
    "version": 3
   },
   "file_extension": ".py",
   "mimetype": "text/x-python",
   "name": "python",
   "nbconvert_exporter": "python",
   "pygments_lexer": "ipython3",
   "version": "3.11.3"
  },
  "orig_nbformat": 4
 },
 "nbformat": 4,
 "nbformat_minor": 2
}
