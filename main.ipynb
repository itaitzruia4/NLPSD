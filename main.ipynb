{
 "cells": [
  {
   "cell_type": "code",
   "execution_count": 22,
   "metadata": {},
   "outputs": [],
   "source": [
    "import pandas as pd\n",
    "import requests\n",
    "import re\n",
    "from typing import List, Dict\n",
    "\n",
    "from consts import *"
   ]
  },
  {
   "cell_type": "code",
   "execution_count": 9,
   "metadata": {},
   "outputs": [
    {
     "name": "stdout",
     "output_type": "stream",
     "text": [
      "<class 'list'>\n",
      "[4185, 4186, 4190, 4191, 4194]\n"
     ]
    }
   ],
   "source": [
    "df = pd.read_csv('kns_csv_files/kns_committee.csv')\n",
    "df = df[df['KnessetNum'] >= 25]\n",
    "df = df[df['CategoryID'].isin([MONEY_COM_CATEGORY_ID, DEFENSE_COM_CATEGORY_ID, LAW_ORDER_COM_CATEGORY_ID, MESADERET_COM_CATEGORY_ID, KNESSET_COM_CATEGORY_ID])]\n",
    "commitee_ids = df['CommitteeID'].to_list()"
   ]
  },
  {
   "cell_type": "code",
   "execution_count": 15,
   "metadata": {},
   "outputs": [],
   "source": [
    "def get_meeting_protocol_text(text_path):\n",
    "    # Define the URL to fetch\n",
    "    base_url = 'https://production.oknesset.org/pipelines/data/committees/meeting_protocols_text/'\n",
    "    # Send GET request to the URL\n",
    "    response = requests.get(base_url + text_path)\n",
    "\n",
    "    # Check if the request was successful (status code 200)\n",
    "    if response.status_code == 200:\n",
    "        response.encoding = 'utf-8'\n",
    "        # Retrieve the content of the file\n",
    "        return response.text\n",
    "    else:\n",
    "        raise ValueError(f\"Failed to retrieve content. Status code: {response.status_code}\")\n"
   ]
  },
  {
   "cell_type": "code",
   "execution_count": 17,
   "metadata": {},
   "outputs": [],
   "source": [
    "com_session_df = pd.read_csv('kns_csv_files/kns_committeesession.csv')\n",
    "com_session_df = com_session_df[com_session_df['CommitteeID'].isin(commitee_ids)]\n",
    "\n",
    "com_session_df.dropna(subset=['text_parsed_filename'], inplace=True)\n",
    "text_paths = com_session_df['text_parsed_filename'].to_list()\n",
    "texts = [get_meeting_protocol_text(path) for path in text_paths]\n"
   ]
  },
  {
   "cell_type": "code",
   "execution_count": 21,
   "metadata": {},
   "outputs": [],
   "source": [
    "def get_meeting_warnings(text) -> Dict[str, int]:\n",
    "    \"\"\"\n",
    "    Return warnings from the meeting protocol text.\n",
    "\n",
    "    Parameters\n",
    "    ----------\n",
    "    text : str\n",
    "        Meeting protocol text.\n",
    "\n",
    "    Returns\n",
    "    -------\n",
    "    Dict[str, int]\n",
    "        Number of warnings for each warned Knesset member.\n",
    "    \"\"\"\n",
    "    regex = '(?<=יו\"ר|יור).+\\n\\n.+(?=פעם (ראש|שני|שליש))'\n",
    "    warnings = re.findall(regex, text)\n",
    "    "
   ]
  },
  {
   "cell_type": "code",
   "execution_count": null,
   "metadata": {},
   "outputs": [],
   "source": []
  }
 ],
 "metadata": {
  "kernelspec": {
   "display_name": "Python 3",
   "language": "python",
   "name": "python3"
  },
  "language_info": {
   "codemirror_mode": {
    "name": "ipython",
    "version": 3
   },
   "file_extension": ".py",
   "mimetype": "text/x-python",
   "name": "python",
   "nbconvert_exporter": "python",
   "pygments_lexer": "ipython3",
   "version": "3.8.6"
  },
  "orig_nbformat": 4
 },
 "nbformat": 4,
 "nbformat_minor": 2
}
