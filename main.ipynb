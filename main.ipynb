{
 "cells": [
  {
   "cell_type": "code",
   "execution_count": 6,
   "metadata": {},
   "outputs": [],
   "source": [
    "import pickle\n",
    "import pandas as pd\n",
    "import re\n",
    "import utils\n",
    "\n",
    "from stats import Statistics"
   ]
  },
  {
   "cell_type": "code",
   "execution_count": 2,
   "metadata": {},
   "outputs": [
    {
     "ename": "KeyError",
     "evalue": "2",
     "output_type": "error",
     "traceback": [
      "\u001b[1;31m---------------------------------------------------------------------------\u001b[0m",
      "\u001b[1;31mKeyError\u001b[0m                                  Traceback (most recent call last)",
      "\u001b[1;32m<ipython-input-2-f64ef6cd7a18>\u001b[0m in \u001b[0;36m<module>\u001b[1;34m\u001b[0m\n\u001b[1;32m----> 1\u001b[1;33m \u001b[0mstats\u001b[0m \u001b[1;33m=\u001b[0m \u001b[0mStatistics\u001b[0m\u001b[1;33m(\u001b[0m\u001b[1;33m)\u001b[0m\u001b[1;33m\u001b[0m\u001b[1;33m\u001b[0m\u001b[0m\n\u001b[0m\u001b[0;32m      2\u001b[0m \u001b[0mstats\u001b[0m\u001b[1;33m\u001b[0m\u001b[1;33m\u001b[0m\u001b[0m\n",
      "\u001b[1;32mc:\\Users\\ely5k\\OneDrive\\Desktop\\SemesterH\\NLPSD\\NLPSD\\stats.py\u001b[0m in \u001b[0;36m__init__\u001b[1;34m(self)\u001b[0m\n\u001b[0;32m     24\u001b[0m             \u001b[0mknesset_categories_sessions\u001b[0m\u001b[1;33m[\u001b[0m\u001b[0mknesset_num\u001b[0m\u001b[1;33m]\u001b[0m \u001b[1;33m=\u001b[0m \u001b[0mdict\u001b[0m\u001b[1;33m.\u001b[0m\u001b[0mfromkeys\u001b[0m\u001b[1;33m(\u001b[0m\u001b[0mutils\u001b[0m\u001b[1;33m.\u001b[0m\u001b[0mCATEGORY_IDS\u001b[0m\u001b[1;33m)\u001b[0m\u001b[1;33m\u001b[0m\u001b[1;33m\u001b[0m\u001b[0m\n\u001b[0;32m     25\u001b[0m             \u001b[1;32mfor\u001b[0m \u001b[0mcategory_id\u001b[0m \u001b[1;32min\u001b[0m \u001b[0mknesset_categories_sessions\u001b[0m\u001b[1;33m[\u001b[0m\u001b[0mknesset_num\u001b[0m\u001b[1;33m]\u001b[0m\u001b[1;33m:\u001b[0m\u001b[1;33m\u001b[0m\u001b[1;33m\u001b[0m\u001b[0m\n\u001b[1;32m---> 26\u001b[1;33m                 \u001b[0mknesset_categories_sessions\u001b[0m\u001b[1;33m[\u001b[0m\u001b[0mknesset_num\u001b[0m\u001b[1;33m]\u001b[0m\u001b[1;33m[\u001b[0m\u001b[0mcategory_id\u001b[0m\u001b[1;33m]\u001b[0m \u001b[1;33m=\u001b[0m \u001b[0mcommittee_session_df\u001b[0m\u001b[1;33m[\u001b[0m\u001b[1;33m(\u001b[0m\u001b[0mcommittee_session_df\u001b[0m\u001b[1;33m[\u001b[0m\u001b[1;34m'KnessetNum'\u001b[0m\u001b[1;33m]\u001b[0m \u001b[1;33m==\u001b[0m \u001b[0mknesset_num\u001b[0m\u001b[1;33m)\u001b[0m \u001b[1;33m&\u001b[0m \u001b[1;33m(\u001b[0m\u001b[0mcommittee_session_df\u001b[0m\u001b[1;33m[\u001b[0m\u001b[1;34m'CommitteeID'\u001b[0m\u001b[1;33m]\u001b[0m\u001b[1;33m.\u001b[0m\u001b[0misin\u001b[0m\u001b[1;33m(\u001b[0m\u001b[0mcategories2committees\u001b[0m\u001b[1;33m[\u001b[0m\u001b[0mcategory_id\u001b[0m\u001b[1;33m]\u001b[0m\u001b[1;33m)\u001b[0m\u001b[1;33m)\u001b[0m\u001b[1;33m]\u001b[0m\u001b[1;33m[\u001b[0m\u001b[1;34m'CommitteeSessionID'\u001b[0m\u001b[1;33m]\u001b[0m\u001b[1;33m.\u001b[0m\u001b[0mto_list\u001b[0m\u001b[1;33m(\u001b[0m\u001b[1;33m)\u001b[0m\u001b[1;33m\u001b[0m\u001b[1;33m\u001b[0m\u001b[0m\n\u001b[0m\u001b[0;32m     27\u001b[0m \u001b[1;33m\u001b[0m\u001b[0m\n\u001b[0;32m     28\u001b[0m         \u001b[0mself\u001b[0m\u001b[1;33m.\u001b[0m\u001b[0mknesset_categories_sessions\u001b[0m \u001b[1;33m=\u001b[0m \u001b[0mknesset_categories_sessions\u001b[0m\u001b[1;33m\u001b[0m\u001b[1;33m\u001b[0m\u001b[0m\n",
      "\u001b[1;31mKeyError\u001b[0m: 2"
     ]
    }
   ],
   "source": [
    "stats = Statistics()\n",
    "stats"
   ]
  },
  {
   "cell_type": "code",
   "execution_count": 1,
   "metadata": {},
   "outputs": [],
   "source": [
    "from protocol_getter import ProtocolGetter\n",
    "import utils\n",
    "\n",
    "protocol_getter = ProtocolGetter(utils.COMMITTEES_PATH,\n",
    "                                 24, 25,\n",
    "                                 [utils.MONEY_COM_CATEGORY_ID, utils.DEFENSE_COM_CATEGORY_ID])\n",
    "for committee_id in protocol_getter.committee_ids:\n",
    "    protocols2paths = protocol_getter.get_protocols_paths(committee_id, limit=10)\n",
    "    for id in list(protocols2paths.keys()):\n",
    "        text = protocol_getter.get_meeting_protocol_text(protocols2paths[id])\n",
    "        with open(f'debug/{id}.txt', 'w', encoding='utf-8') as f:\n",
    "            f.write(text)"
   ]
  },
  {
   "cell_type": "code",
   "execution_count": 27,
   "metadata": {},
   "outputs": [
    {
     "name": "stdout",
     "output_type": "stream",
     "text": [
      "None\n"
     ]
    }
   ],
   "source": [
    "with open(\"protocols/2077602.txt\", 'r') as f:\n",
    "    txt = f.read()\n",
    "filtered = utils.filter_protocol_sentences(txt)\n",
    "print(filtered)"
   ]
  },
  {
   "cell_type": "code",
   "execution_count": 2,
   "metadata": {},
   "outputs": [
    {
     "data": {
      "text/html": [
       "<div>\n",
       "<style scoped>\n",
       "    .dataframe tbody tr th:only-of-type {\n",
       "        vertical-align: middle;\n",
       "    }\n",
       "\n",
       "    .dataframe tbody tr th {\n",
       "        vertical-align: top;\n",
       "    }\n",
       "\n",
       "    .dataframe thead th {\n",
       "        text-align: right;\n",
       "    }\n",
       "</style>\n",
       "<table border=\"1\" class=\"dataframe\">\n",
       "  <thead>\n",
       "    <tr style=\"text-align: right;\">\n",
       "      <th></th>\n",
       "      <th>CommitteeSessionID</th>\n",
       "      <th>Number</th>\n",
       "      <th>KnessetNum</th>\n",
       "      <th>TypeID</th>\n",
       "      <th>TypeDesc</th>\n",
       "      <th>CommitteeID</th>\n",
       "      <th>Location</th>\n",
       "      <th>SessionUrl</th>\n",
       "      <th>B21roadcastUrl</th>\n",
       "      <th>StartDate</th>\n",
       "      <th>...</th>\n",
       "      <th>text_crc32c</th>\n",
       "      <th>text_filesize</th>\n",
       "      <th>text_parsed_filename</th>\n",
       "      <th>item_ids</th>\n",
       "      <th>item_type_ids</th>\n",
       "      <th>topics</th>\n",
       "      <th>committee_name</th>\n",
       "      <th>bill_names</th>\n",
       "      <th>bill_types</th>\n",
       "      <th>related_to_legislation</th>\n",
       "    </tr>\n",
       "  </thead>\n",
       "  <tbody>\n",
       "    <tr>\n",
       "      <th>0</th>\n",
       "      <td>64515</td>\n",
       "      <td>NaN</td>\n",
       "      <td>16</td>\n",
       "      <td>161</td>\n",
       "      <td>פתוחה</td>\n",
       "      <td>22</td>\n",
       "      <td>חדר הוועדה, באגף הוועדות (קדמה), קומה 2, חדר 2750</td>\n",
       "      <td>http://main.knesset.gov.il/Activity/committees...</td>\n",
       "      <td>NaN</td>\n",
       "      <td>2003-02-25 10:30:00</td>\n",
       "      <td>...</td>\n",
       "      <td>NaN</td>\n",
       "      <td>NaN</td>\n",
       "      <td>NaN</td>\n",
       "      <td>NaN</td>\n",
       "      <td>NaN</td>\n",
       "      <td>NaN</td>\n",
       "      <td>ועדת החוץ והביטחון</td>\n",
       "      <td>[]</td>\n",
       "      <td>[]</td>\n",
       "      <td>False</td>\n",
       "    </tr>\n",
       "    <tr>\n",
       "      <th>1</th>\n",
       "      <td>64516</td>\n",
       "      <td>2.0</td>\n",
       "      <td>16</td>\n",
       "      <td>161</td>\n",
       "      <td>פתוחה</td>\n",
       "      <td>21</td>\n",
       "      <td>חדר הוועדה, באגף הוועדות (קדמה), קומה 3, חדר 3750</td>\n",
       "      <td>http://main.knesset.gov.il/Activity/committees...</td>\n",
       "      <td>NaN</td>\n",
       "      <td>2003-02-24 10:00:00</td>\n",
       "      <td>...</td>\n",
       "      <td>l58eRw==</td>\n",
       "      <td>157991.0</td>\n",
       "      <td>files/6/4/64516.txt</td>\n",
       "      <td>[74814, 74813, 73285, 73284, 74812, 74811, 74810]</td>\n",
       "      <td>[11, 11, 11, 11, 11, 11, 11]</td>\n",
       "      <td>[\"שינויים בתקציב לשנת 2003\", \"בחירת יו\\\"ר לועד...</td>\n",
       "      <td>ועדת הכספים</td>\n",
       "      <td>[]</td>\n",
       "      <td>[]</td>\n",
       "      <td>True</td>\n",
       "    </tr>\n",
       "    <tr>\n",
       "      <th>2</th>\n",
       "      <td>64517</td>\n",
       "      <td>4.0</td>\n",
       "      <td>16</td>\n",
       "      <td>161</td>\n",
       "      <td>פתוחה</td>\n",
       "      <td>21</td>\n",
       "      <td>חדר הוועדה, באגף הוועדות (קדמה), קומה 3, חדר 3750</td>\n",
       "      <td>http://main.knesset.gov.il/Activity/committees...</td>\n",
       "      <td>NaN</td>\n",
       "      <td>2003-03-11 10:00:00</td>\n",
       "      <td>...</td>\n",
       "      <td>G3OqdA==</td>\n",
       "      <td>53664.0</td>\n",
       "      <td>files/6/4/64517.txt</td>\n",
       "      <td>[74814, 74809, 74808, 73426, 73425, 73424, 734...</td>\n",
       "      <td>[11, 11, 11, 11, 11, 11, 11, 11, 11, 11, 11, 1...</td>\n",
       "      <td>[\"שינויים בתקציב לשנת 2003\", \"תקנות ניירות ערך...</td>\n",
       "      <td>ועדת הכספים</td>\n",
       "      <td>[]</td>\n",
       "      <td>[]</td>\n",
       "      <td>True</td>\n",
       "    </tr>\n",
       "    <tr>\n",
       "      <th>3</th>\n",
       "      <td>64518</td>\n",
       "      <td>NaN</td>\n",
       "      <td>16</td>\n",
       "      <td>161</td>\n",
       "      <td>פתוחה</td>\n",
       "      <td>22</td>\n",
       "      <td>חדר הוועדה, באגף הוועדות (קדמה), קומה 2, חדר 2750</td>\n",
       "      <td>http://main.knesset.gov.il/Activity/committees...</td>\n",
       "      <td>NaN</td>\n",
       "      <td>2003-02-26 08:30:00</td>\n",
       "      <td>...</td>\n",
       "      <td>NaN</td>\n",
       "      <td>NaN</td>\n",
       "      <td>NaN</td>\n",
       "      <td>NaN</td>\n",
       "      <td>NaN</td>\n",
       "      <td>NaN</td>\n",
       "      <td>ועדת החוץ והביטחון</td>\n",
       "      <td>[]</td>\n",
       "      <td>[]</td>\n",
       "      <td>False</td>\n",
       "    </tr>\n",
       "    <tr>\n",
       "      <th>4</th>\n",
       "      <td>64519</td>\n",
       "      <td>1.0</td>\n",
       "      <td>16</td>\n",
       "      <td>161</td>\n",
       "      <td>פתוחה</td>\n",
       "      <td>22</td>\n",
       "      <td>חדר הוועדה, באגף הוועדות (קדמה), קומה 2, חדר 2750</td>\n",
       "      <td>http://main.knesset.gov.il/Activity/committees...</td>\n",
       "      <td>NaN</td>\n",
       "      <td>2003-03-04 10:00:00</td>\n",
       "      <td>...</td>\n",
       "      <td>NaN</td>\n",
       "      <td>NaN</td>\n",
       "      <td>NaN</td>\n",
       "      <td>[73405]</td>\n",
       "      <td>[11]</td>\n",
       "      <td>[\"סקירת ראש אמ\\\"ן האלוף אהרן זאבי (פרקש)\"]</td>\n",
       "      <td>ועדת החוץ והביטחון</td>\n",
       "      <td>[]</td>\n",
       "      <td>[]</td>\n",
       "      <td>False</td>\n",
       "    </tr>\n",
       "  </tbody>\n",
       "</table>\n",
       "<p>5 rows × 29 columns</p>\n",
       "</div>"
      ],
      "text/plain": [
       "   CommitteeSessionID  Number  KnessetNum  TypeID TypeDesc  CommitteeID  \\\n",
       "0               64515     NaN          16     161    פתוחה           22   \n",
       "1               64516     2.0          16     161    פתוחה           21   \n",
       "2               64517     4.0          16     161    פתוחה           21   \n",
       "3               64518     NaN          16     161    פתוחה           22   \n",
       "4               64519     1.0          16     161    פתוחה           22   \n",
       "\n",
       "                                            Location  \\\n",
       "0  חדר הוועדה, באגף הוועדות (קדמה), קומה 2, חדר 2750   \n",
       "1  חדר הוועדה, באגף הוועדות (קדמה), קומה 3, חדר 3750   \n",
       "2  חדר הוועדה, באגף הוועדות (קדמה), קומה 3, חדר 3750   \n",
       "3  חדר הוועדה, באגף הוועדות (קדמה), קומה 2, חדר 2750   \n",
       "4  חדר הוועדה, באגף הוועדות (קדמה), קומה 2, חדר 2750   \n",
       "\n",
       "                                          SessionUrl B21roadcastUrl  \\\n",
       "0  http://main.knesset.gov.il/Activity/committees...            NaN   \n",
       "1  http://main.knesset.gov.il/Activity/committees...            NaN   \n",
       "2  http://main.knesset.gov.il/Activity/committees...            NaN   \n",
       "3  http://main.knesset.gov.il/Activity/committees...            NaN   \n",
       "4  http://main.knesset.gov.il/Activity/committees...            NaN   \n",
       "\n",
       "             StartDate  ... text_crc32c text_filesize text_parsed_filename  \\\n",
       "0  2003-02-25 10:30:00  ...         NaN           NaN                  NaN   \n",
       "1  2003-02-24 10:00:00  ...    l58eRw==      157991.0  files/6/4/64516.txt   \n",
       "2  2003-03-11 10:00:00  ...    G3OqdA==       53664.0  files/6/4/64517.txt   \n",
       "3  2003-02-26 08:30:00  ...         NaN           NaN                  NaN   \n",
       "4  2003-03-04 10:00:00  ...         NaN           NaN                  NaN   \n",
       "\n",
       "                                            item_ids  \\\n",
       "0                                                NaN   \n",
       "1  [74814, 74813, 73285, 73284, 74812, 74811, 74810]   \n",
       "2  [74814, 74809, 74808, 73426, 73425, 73424, 734...   \n",
       "3                                                NaN   \n",
       "4                                            [73405]   \n",
       "\n",
       "                                       item_type_ids  \\\n",
       "0                                                NaN   \n",
       "1                       [11, 11, 11, 11, 11, 11, 11]   \n",
       "2  [11, 11, 11, 11, 11, 11, 11, 11, 11, 11, 11, 1...   \n",
       "3                                                NaN   \n",
       "4                                               [11]   \n",
       "\n",
       "                                              topics      committee_name  \\\n",
       "0                                                NaN  ועדת החוץ והביטחון   \n",
       "1  [\"שינויים בתקציב לשנת 2003\", \"בחירת יו\\\"ר לועד...         ועדת הכספים   \n",
       "2  [\"שינויים בתקציב לשנת 2003\", \"תקנות ניירות ערך...         ועדת הכספים   \n",
       "3                                                NaN  ועדת החוץ והביטחון   \n",
       "4         [\"סקירת ראש אמ\\\"ן האלוף אהרן זאבי (פרקש)\"]  ועדת החוץ והביטחון   \n",
       "\n",
       "   bill_names bill_types related_to_legislation  \n",
       "0          []         []                  False  \n",
       "1          []         []                   True  \n",
       "2          []         []                   True  \n",
       "3          []         []                  False  \n",
       "4          []         []                  False  \n",
       "\n",
       "[5 rows x 29 columns]"
      ]
     },
     "execution_count": 2,
     "metadata": {},
     "output_type": "execute_result"
    }
   ],
   "source": [
    "import pandas as pd\n",
    "\n",
    "cms = pd.read_csv(\"kns_csv_files\\kns_committeesession.csv\")\n",
    "cms.head()"
   ]
  },
  {
   "cell_type": "code",
   "execution_count": 23,
   "metadata": {},
   "outputs": [
    {
     "data": {
      "text/plain": [
       "[931]"
      ]
     },
     "execution_count": 23,
     "metadata": {},
     "output_type": "execute_result"
    }
   ],
   "source": [
    "from protocol_getter import ProtocolGetter\n",
    "import utils\n",
    "\n",
    "protocol_getter = ProtocolGetter(utils.COMMITTEES_PATH, 20, 20, [13])\n",
    "protocol_getter.committee_ids"
   ]
  },
  {
   "cell_type": "code",
   "execution_count": 26,
   "metadata": {},
   "outputs": [],
   "source": [
    "with open(\"protocols/2077602.txt\", 'w') as f:\n",
    "    f.write(protocol_getter.get_meeting_protocol_text('files/2/0/2077602.txt'))\n"
   ]
  },
  {
   "cell_type": "code",
   "execution_count": null,
   "metadata": {},
   "outputs": [],
   "source": []
  },
  {
   "cell_type": "code",
   "execution_count": 25,
   "metadata": {},
   "outputs": [
    {
     "data": {
      "text/plain": [
       "[565209,\n",
       " 565283,\n",
       " 565536,\n",
       " 565772,\n",
       " 565815,\n",
       " 565988,\n",
       " 566355,\n",
       " 566356,\n",
       " 566511,\n",
       " 566594,\n",
       " 567310,\n",
       " 567312,\n",
       " 567624,\n",
       " 567626,\n",
       " 568041,\n",
       " 568837,\n",
       " 568969,\n",
       " 569195,\n",
       " 569437,\n",
       " 569549,\n",
       " 569940,\n",
       " 570389,\n",
       " 570474,\n",
       " 570514,\n",
       " 570699,\n",
       " 570709,\n",
       " 570936,\n",
       " 571264,\n",
       " 571368,\n",
       " 571730,\n",
       " 571899,\n",
       " 572431,\n",
       " 572495,\n",
       " 572689,\n",
       " 572933,\n",
       " 573062,\n",
       " 573282,\n",
       " 573556,\n",
       " 573649,\n",
       " 573805,\n",
       " 574096,\n",
       " 574451,\n",
       " 574901,\n",
       " 575041,\n",
       " 575317,\n",
       " 575321,\n",
       " 575363,\n",
       " 576901,\n",
       " 577019,\n",
       " 577171,\n",
       " 577438,\n",
       " 577646,\n",
       " 578063,\n",
       " 578879,\n",
       " 579084,\n",
       " 2002612,\n",
       " 2002627,\n",
       " 2002947,\n",
       " 2002956,\n",
       " 2003015,\n",
       " 2003017,\n",
       " 2003029,\n",
       " 2003089,\n",
       " 2003219,\n",
       " 2003930,\n",
       " 2004031,\n",
       " 2004596,\n",
       " 2004600,\n",
       " 2004736,\n",
       " 2006034,\n",
       " 2006278,\n",
       " 2006544,\n",
       " 2006659,\n",
       " 2007288,\n",
       " 2007374,\n",
       " 2007614,\n",
       " 2007673,\n",
       " 2007717,\n",
       " 2007748,\n",
       " 2007893,\n",
       " 2008156,\n",
       " 2008646,\n",
       " 2008721,\n",
       " 2009189,\n",
       " 2009438,\n",
       " 2009694,\n",
       " 2009734,\n",
       " 2010092,\n",
       " 2010451,\n",
       " 2011105,\n",
       " 2011119,\n",
       " 2011123,\n",
       " 2011706,\n",
       " 2011937,\n",
       " 2011964,\n",
       " 2012228,\n",
       " 2012650,\n",
       " 2012709,\n",
       " 2012892,\n",
       " 2013402,\n",
       " 2013602,\n",
       " 2014139,\n",
       " 2014599,\n",
       " 2014784,\n",
       " 2014785,\n",
       " 2014786,\n",
       " 2014788,\n",
       " 2015067,\n",
       " 2015184,\n",
       " 2015194,\n",
       " 2015760,\n",
       " 2016395,\n",
       " 2016623,\n",
       " 2016977,\n",
       " 2017021,\n",
       " 2017441,\n",
       " 2017444,\n",
       " 2017657,\n",
       " 2017660,\n",
       " 2017663,\n",
       " 2017665,\n",
       " 2018101,\n",
       " 2018202,\n",
       " 2018520,\n",
       " 2018585,\n",
       " 2018842,\n",
       " 2019266,\n",
       " 2019270,\n",
       " 2019496,\n",
       " 2019500,\n",
       " 2019815,\n",
       " 2019817,\n",
       " 2019907,\n",
       " 2020136,\n",
       " 2021153,\n",
       " 2021155,\n",
       " 2021265,\n",
       " 2021299,\n",
       " 2021301,\n",
       " 2021303,\n",
       " 2021532,\n",
       " 2022366,\n",
       " 2023316,\n",
       " 2023399,\n",
       " 2023763,\n",
       " 2023989,\n",
       " 2024131,\n",
       " 2024609,\n",
       " 2025419,\n",
       " 2025773,\n",
       " 2063411,\n",
       " 2063525,\n",
       " 2063608,\n",
       " 2064066,\n",
       " 2064289,\n",
       " 2064587,\n",
       " 2064604,\n",
       " 2064825,\n",
       " 2065015,\n",
       " 2065206,\n",
       " 2065210,\n",
       " 2066007,\n",
       " 2066010,\n",
       " 2066180,\n",
       " 2066232,\n",
       " 2066380,\n",
       " 2066381,\n",
       " 2066384,\n",
       " 2066386,\n",
       " 2066391,\n",
       " 2068196,\n",
       " 2068197,\n",
       " 2069710,\n",
       " 2069713,\n",
       " 2069718,\n",
       " 2070675,\n",
       " 2070850,\n",
       " 2071080,\n",
       " 2071631,\n",
       " 2071944,\n",
       " 2072111,\n",
       " 2072244,\n",
       " 2072752,\n",
       " 2072962,\n",
       " 2073054,\n",
       " 2073171,\n",
       " 2074062,\n",
       " 2074410,\n",
       " 2074415,\n",
       " 2074923,\n",
       " 2075915,\n",
       " 2076072,\n",
       " 2076314,\n",
       " 2076763,\n",
       " 2076903,\n",
       " 2077265,\n",
       " 2077556,\n",
       " 2077602]"
      ]
     },
     "execution_count": 25,
     "metadata": {},
     "output_type": "execute_result"
    }
   ],
   "source": [
    "filtered = cms\n",
    "filtered = filtered[filtered.CommitteeID == 931]\n",
    "filtered = filtered[[\"CommitteeSessionID\", \"text_parsed_filename\"]].dropna()[\"CommitteeSessionID\"].tolist()\n",
    "filtered"
   ]
  },
  {
   "cell_type": "code",
   "execution_count": 2,
   "metadata": {},
   "outputs": [
    {
     "name": "stdout",
     "output_type": "stream",
     "text": [
      "אורית מלכה סטרוק\n",
      "אורית סטרוק\n",
      "מלכה סטרוק\n"
     ]
    }
   ],
   "source": [
    "from warning_counter import WarningCounter\n",
    "\n",
    "warningCounter = WarningCounter(utils.MEMBERS_PATH)\n",
    "for i in warningCounter.knesset_members:\n",
    "    if 'סטרוק' in i:\n",
    "        print(i)"
   ]
  },
  {
   "cell_type": "code",
   "execution_count": 11,
   "metadata": {},
   "outputs": [
    {
     "name": "stdout",
     "output_type": "stream",
     "text": [
      "number of warnings: 1\n"
     ]
    }
   ],
   "source": [
    "with open('results/finetune_24_2.pkl', 'rb') as f:\n",
    "    results = pickle.load(f)\n",
    "\n",
    "results\n",
    "\n",
    "print('number of warnings:', results['warnings'][1])\n",
    "warnings = results['warnings'][0]\n",
    "with open('warnings_24_2.txt', 'w', encoding='utf-8') as f:\n",
    "    f.write(str(warnings))"
   ]
  },
  {
   "cell_type": "code",
   "execution_count": 14,
   "metadata": {},
   "outputs": [
    {
     "data": {
      "text/plain": [
       "1138"
      ]
     },
     "execution_count": 14,
     "metadata": {},
     "output_type": "execute_result"
    }
   ],
   "source": [
    "knesset_members_df = pd.read_csv('kns_csv_files/kns_person.csv')\n",
    "first_names, last_names = knesset_members_df['FirstName'].to_list(), knesset_members_df['LastName'].to_list()\n",
    "knesset_members = [' '.join([first_name, last_name]) for first_name, last_name in zip(first_names, last_names)]"
   ]
  },
  {
   "cell_type": "code",
   "execution_count": 16,
   "metadata": {},
   "outputs": [
    {
     "name": "stdout",
     "output_type": "stream",
     "text": [
      "אברהם-בייגה שוחט: ['אברהם', 'בייגה']\n",
      "יוסף (טומי) לפיד: ['יוסף', 'טומי']\n",
      "יוסף יצחק פריצקי: ['יוסף', 'יצחק']\n",
      "יולי יואל אדלשטיין: ['יולי', 'יואל']\n",
      "עבד-אלמאלכ דהאמשה: ['עבד', 'אלמאלכ']\n",
      "ג'מאל זחאלקה: ['ג', 'מאל']\n",
      "שניאור זלמן אברמוב: ['שניאור', 'זלמן']\n",
      "יהודה-מאיר אברמוביץ: ['יהודה', 'מאיר']\n",
      "סיף-אלדין אלזועבי: ['סיף', 'אלדין']\n",
      "אריה לובה אליאב: ['אריה', 'לובה']\n",
      "יוסף-אהרון אלמוגי: ['יוסף', 'אהרון']\n",
      "יעקב-ז'אק אמיר: ['יעקב', 'ז', 'אק']\n",
      "זאב בנימין בגין: ['זאב', 'בנימין']\n",
      "אליקים-גוסטב בדיאן: ['אליקים', 'גוסטב']\n",
      "צ'רלי ביטון: ['צ', 'רלי']\n",
      "שלמה-ישראל בן-מאיר: ['שלמה', 'ישראל']\n",
      "חליל-סלים ג'בארה: ['חליל', 'סלים']\n",
      "אליהו-משה גנחובסקי: ['אליהו', 'משה']\n",
      "שלמה-יעקב גרוס: ['שלמה', 'יעקב']\n",
      "אהרן-יעקב גרינברג: ['אהרן', 'יעקב']\n",
      "אורי-צבי גרינברג: ['אורי', 'צבי']\n",
      "בן-ציון דינור: ['בן', 'ציון']\n",
      "עבד-אלוהב דראושה: ['עבד', 'אלוהב']\n",
      "יהודה (יודין) דרניצקי: ['יהודה', 'יודין']\n",
      "אריה מכלוף דרעי: ['אריה', 'מכלוף']\n",
      "בן-ציון הראל: ['בן', 'ציון']\n",
      "פריג'ה זוארץ: ['פריג', 'ה']\n",
      "עבדול-עזיז זועבי: ['עבדול', 'עזיז']\n",
      "בן-ציון חלפון: ['בן', 'ציון']\n",
      "ז'ניה טברסקי: ['ז', 'ניה']\n",
      "בת-שבע כצנלסון: ['בת', 'שבע']\n",
      "מאיר-דוד לוונשטיין: ['מאיר', 'דוד']\n",
      "דניאל יצחק לוי: ['דניאל', 'יצחק']\n",
      "יצחק-מאיר לוין: ['יצחק', 'מאיר']\n",
      "אברהם יוסף לייזרזון: ['אברהם', 'יוסף']\n",
      "ג'בר מועדי: ['ג', 'בר']\n",
      "יהודה לייב מימון: ['יהודה', 'לייב']\n",
      "צבי-משה נריה: ['צבי', 'משה']\n",
      "שלמה חיים עמר: ['שלמה', 'חיים']\n",
      "חסיין חוסיין פארס: ['חסיין', 'חוסיין']\n",
      "משה-זאב פלדמן: ['משה', 'זאב']\n",
      "ג'ורג' פלש: ['ג', 'ורג']\n",
      "דוד-צבי פנקס: ['דוד', 'צבי']\n",
      "יצחק-חיים פרץ: ['יצחק', 'חיים']\n",
      "חיים יוסף צדוק: ['חיים', 'יוסף']\n",
      "יצחק-הנס קלינגהופר: ['יצחק', 'הנס']\n",
      "בן-ציון רובין: ['בן', 'ציון']\n",
      "אלימלך-שמעון רימלט: ['אלימלך', 'שמעון']\n",
      "אברהם חיים שאג: ['אברהם', 'חיים']\n",
      "אבנר-חי שאקי: ['אבנר', 'חי']\n",
      "שלום אברהם שאקי: ['שלום', 'אברהם']\n",
      "מרדכי-חיים שטרן: ['מרדכי', 'חיים']\n",
      "בכור-שלום שיטרית: ['בכור', 'שלום']\n",
      "חיים משה שפירא: ['חיים', 'משה']\n",
      "יעקב-שמשון שפירא: ['יעקב', 'שמשון']\n",
      "יעקב מאיר גרי: ['יעקב', 'מאיר']\n",
      "יעקב משה טולידאנו: ['יעקב', 'משה']\n",
      "בן-ציון שטרנברג: ['בן', 'ציון']\n",
      "יהודה לייב הכהן פישמן: ['יהודה', 'לייב', 'הכהן']\n",
      "בן-ציון קשת: ['בן', 'ציון']\n",
      "יחיאל חיליק בר: ['יחיאל', 'חיליק']\n",
      "שכיב מוראד שנאן: ['שכיב', 'מוראד']\n",
      "יהושע מנחם פולק: ['יהושע', 'מנחם']\n",
      "משה (מוץ) מטלון: ['משה', 'מוץ']\n",
      "מנחם אליעזר מוזס: ['מנחם', 'אליעזר']\n",
      "מירי מרים רגב: ['מירי', 'מרים']\n",
      "אורית מלכה סטרוק: ['אורית', 'מלכה']\n",
      "משה זלמן פייגלין: ['משה', 'זלמן']\n",
      "הלל אילן הורוביץ: ['הלל', 'אילן']\n",
      "ז'קי לוי: ['ז', 'קי']\n",
      "מכלוף מיקי זוהר: ['מכלוף', 'מיקי']\n",
      "עבד אל חכים חאג' יחיא: ['עבד', 'אל', 'חכים']\n",
      "אורן אסף חזן: ['אורן', 'אסף']\n",
      "שרן מרים השכל: ['שרן', 'מרים']\n",
      "ג'מעה אזברגה: ['ג', 'מעה']\n",
      "אוסנת הילה מארק: ['אוסנת', 'הילה']\n",
      "מיכאל מרדכי ביטון: ['מיכאל', 'מרדכי']\n",
      "ע'דיר כמאל מריח: ['ע', 'דיר']\n",
      "חוה אתי עטייה: ['חוה', 'אתי']\n",
      "קטי קטרין שטרית: ['קטי', 'קטרין']\n",
      "דסטה גדי יברקן: ['דסטה', 'גדי']\n",
      "ג'אבר עסאקלה: ['ג', 'אבר']\n",
      "יום טוב חי כלפון: ['יום', 'טוב', 'חי']\n",
      "ג'ידא רינאוי-זועבי: ['ג', 'ידא']\n",
      "אמילי חיה מואטי: ['אמילי', 'חיה']\n",
      "מיכל מרים וולדיגר: ['מיכל', 'מרים']\n",
      "חנוך דב מלביצקי: ['חנוך', 'דב']\n",
      "יצחק שמעון וסרלאוף: ['יצחק', 'שמעון']\n",
      "שלי טל מירון: ['שלי', 'טל']\n",
      "צבי ידידיה סוכות: ['צבי', 'ידידיה']\n",
      "ששון ששי גואטה: ['ששון', 'ששי']\n",
      "אביחי אברהם בוארון: ['אביחי', 'אברהם']\n"
     ]
    }
   ],
   "source": [
    "# handle members with a middle name or a nickname\n",
    "new_first_names, new_last_names = [], []\n",
    "\n",
    "for fn, ln in zip(first_names, last_names):\n",
    "    names = re.findall('\\w+', fn)\n",
    "    if len(names) > 1:\n",
    "        print(f'{fn} {ln}: {names}')"
   ]
  },
  {
   "cell_type": "code",
   "execution_count": 11,
   "metadata": {},
   "outputs": [
    {
     "ename": "AttributeError",
     "evalue": "module 'matplotlib.pyplot' has no attribute 'label'",
     "output_type": "error",
     "traceback": [
      "\u001b[1;31m---------------------------------------------------------------------------\u001b[0m",
      "\u001b[1;31mAttributeError\u001b[0m                            Traceback (most recent call last)",
      "\u001b[1;32m<ipython-input-11-23556d4e93b4>\u001b[0m in \u001b[0;36m<module>\u001b[1;34m\u001b[0m\n\u001b[0;32m      4\u001b[0m \u001b[0mscores_counter\u001b[0m\u001b[1;33m\u001b[0m\u001b[1;33m\u001b[0m\u001b[0m\n\u001b[0;32m      5\u001b[0m \u001b[0mplt\u001b[0m\u001b[1;33m.\u001b[0m\u001b[0mbar\u001b[0m\u001b[1;33m(\u001b[0m\u001b[0mscores_counter\u001b[0m\u001b[1;33m.\u001b[0m\u001b[0mkeys\u001b[0m\u001b[1;33m(\u001b[0m\u001b[1;33m)\u001b[0m\u001b[1;33m,\u001b[0m \u001b[0mscores_counter\u001b[0m\u001b[1;33m.\u001b[0m\u001b[0mvalues\u001b[0m\u001b[1;33m(\u001b[0m\u001b[1;33m)\u001b[0m\u001b[1;33m,\u001b[0m \u001b[0mlabel\u001b[0m\u001b[1;33m=\u001b[0m \u001b[1;33m[\u001b[0m\u001b[1;36m0\u001b[0m\u001b[1;33m,\u001b[0m \u001b[1;36m1\u001b[0m\u001b[1;33m]\u001b[0m\u001b[1;33m)\u001b[0m\u001b[1;33m\u001b[0m\u001b[1;33m\u001b[0m\u001b[0m\n\u001b[1;32m----> 6\u001b[1;33m \u001b[0mplt\u001b[0m\u001b[1;33m.\u001b[0m\u001b[0mlabel\u001b[0m\u001b[1;33m(\u001b[0m\u001b[1;33m)\u001b[0m\u001b[1;33m\u001b[0m\u001b[1;33m\u001b[0m\u001b[0m\n\u001b[0m\u001b[0;32m      7\u001b[0m \u001b[0mplt\u001b[0m\u001b[1;33m.\u001b[0m\u001b[0mshow\u001b[0m\u001b[1;33m(\u001b[0m\u001b[1;33m)\u001b[0m\u001b[1;33m\u001b[0m\u001b[1;33m\u001b[0m\u001b[0m\n",
      "\u001b[1;31mAttributeError\u001b[0m: module 'matplotlib.pyplot' has no attribute 'label'"
     ]
    },
    {
     "data": {
      "image/png": "[encoded data removed]",
      "text/plain": [
       "<Figure size 432x288 with 1 Axes>"
      ]
     },
     "metadata": {
      "needs_background": "light"
     },
     "output_type": "display_data"
    }
   ],
   "source": [
    "agg_score_bin = pd.read_csv('agg_score_bin.csv')\n",
    "agg_score_bin = agg_score_bin.dropna()\n",
    "scores_counter = Counter(agg_score_bin['score'])\n",
    "scores_counter\n",
    "plt.bar(scores_counter.keys(), scores_counter.values(), label= [0, 1])\n",
    "plt.show()"
   ]
  },
  {
   "cell_type": "code",
   "execution_count": 2,
   "metadata": {},
   "outputs": [],
   "source": [
    "df = pd.read_csv('kns_csv_files/kns_committee.csv')\n",
    "df = df[df['KnessetNum'] >= 25]\n",
    "df = df[df['CategoryID'].isin([MONEY_COM_CATEGORY_ID, DEFENSE_COM_CATEGORY_ID, LAW_ORDER_COM_CATEGORY_ID, MESADERET_COM_CATEGORY_ID, KNESSET_COM_CATEGORY_ID])]\n",
    "commitee_ids = df['CommitteeID'].to_list()"
   ]
  },
  {
   "cell_type": "code",
   "execution_count": 3,
   "metadata": {},
   "outputs": [],
   "source": [
    "def get_meeting_protocol_text(text_path):\n",
    "    # Define the URL to fetch\n",
    "    base_url = 'https://production.oknesset.org/pipelines/data/committees/meeting_protocols_text/'\n",
    "    # Send GET request to the URL\n",
    "    response = requests.get(base_url + text_path)\n",
    "\n",
    "    # Check if the request was successful (status code 200)\n",
    "    if response.status_code == 200:\n",
    "        response.encoding = 'utf-8'\n",
    "        # Retrieve the content of the file\n",
    "        return response.text\n",
    "    else:\n",
    "        raise ValueError(f\"Failed to retrieve content. Status code: {response.status_code}\")\n"
   ]
  },
  {
   "cell_type": "code",
   "execution_count": 4,
   "metadata": {},
   "outputs": [
    {
     "ename": "NameError",
     "evalue": "name 'rate_aggressiveness' is not defined",
     "output_type": "error",
     "traceback": [
      "\u001b[1;31m---------------------------------------------------------------------------\u001b[0m",
      "\u001b[1;31mNameError\u001b[0m                                 Traceback (most recent call last)",
      "\u001b[1;32m~\\AppData\\Local\\Temp\\ipykernel_1836\\2522381786.py\u001b[0m in \u001b[0;36m<cell line: 7>\u001b[1;34m()\u001b[0m\n\u001b[0;32m      5\u001b[0m \u001b[0mtext_paths\u001b[0m \u001b[1;33m=\u001b[0m \u001b[0mcom_session_df\u001b[0m\u001b[1;33m[\u001b[0m\u001b[1;34m'text_parsed_filename'\u001b[0m\u001b[1;33m]\u001b[0m\u001b[1;33m.\u001b[0m\u001b[0mto_list\u001b[0m\u001b[1;33m(\u001b[0m\u001b[1;33m)\u001b[0m\u001b[1;33m\u001b[0m\u001b[1;33m\u001b[0m\u001b[0m\n\u001b[0;32m      6\u001b[0m \u001b[0mtexts\u001b[0m \u001b[1;33m=\u001b[0m \u001b[1;33m[\u001b[0m\u001b[0mget_meeting_protocol_text\u001b[0m\u001b[1;33m(\u001b[0m\u001b[0mpath\u001b[0m\u001b[1;33m)\u001b[0m \u001b[1;32mfor\u001b[0m \u001b[0mpath\u001b[0m \u001b[1;32min\u001b[0m \u001b[0mtext_paths\u001b[0m\u001b[1;33m]\u001b[0m\u001b[1;33m\u001b[0m\u001b[1;33m\u001b[0m\u001b[0m\n\u001b[1;32m----> 7\u001b[1;33m \u001b[0magg_scores\u001b[0m \u001b[1;33m=\u001b[0m \u001b[1;33m[\u001b[0m\u001b[0mrate_aggressiveness\u001b[0m\u001b[1;33m(\u001b[0m\u001b[0mtext\u001b[0m\u001b[1;33m)\u001b[0m \u001b[1;32mfor\u001b[0m \u001b[0mtext\u001b[0m \u001b[1;32min\u001b[0m \u001b[0mtexts\u001b[0m\u001b[1;33m]\u001b[0m\u001b[1;33m\u001b[0m\u001b[1;33m\u001b[0m\u001b[0m\n\u001b[0m\u001b[0;32m      8\u001b[0m \u001b[1;33m\u001b[0m\u001b[0m\n",
      "\u001b[1;32m~\\AppData\\Local\\Temp\\ipykernel_1836\\2522381786.py\u001b[0m in \u001b[0;36m<listcomp>\u001b[1;34m(.0)\u001b[0m\n\u001b[0;32m      5\u001b[0m \u001b[0mtext_paths\u001b[0m \u001b[1;33m=\u001b[0m \u001b[0mcom_session_df\u001b[0m\u001b[1;33m[\u001b[0m\u001b[1;34m'text_parsed_filename'\u001b[0m\u001b[1;33m]\u001b[0m\u001b[1;33m.\u001b[0m\u001b[0mto_list\u001b[0m\u001b[1;33m(\u001b[0m\u001b[1;33m)\u001b[0m\u001b[1;33m\u001b[0m\u001b[1;33m\u001b[0m\u001b[0m\n\u001b[0;32m      6\u001b[0m \u001b[0mtexts\u001b[0m \u001b[1;33m=\u001b[0m \u001b[1;33m[\u001b[0m\u001b[0mget_meeting_protocol_text\u001b[0m\u001b[1;33m(\u001b[0m\u001b[0mpath\u001b[0m\u001b[1;33m)\u001b[0m \u001b[1;32mfor\u001b[0m \u001b[0mpath\u001b[0m \u001b[1;32min\u001b[0m \u001b[0mtext_paths\u001b[0m\u001b[1;33m]\u001b[0m\u001b[1;33m\u001b[0m\u001b[1;33m\u001b[0m\u001b[0m\n\u001b[1;32m----> 7\u001b[1;33m \u001b[0magg_scores\u001b[0m \u001b[1;33m=\u001b[0m \u001b[1;33m[\u001b[0m\u001b[0mrate_aggressiveness\u001b[0m\u001b[1;33m(\u001b[0m\u001b[0mtext\u001b[0m\u001b[1;33m)\u001b[0m \u001b[1;32mfor\u001b[0m \u001b[0mtext\u001b[0m \u001b[1;32min\u001b[0m \u001b[0mtexts\u001b[0m\u001b[1;33m]\u001b[0m\u001b[1;33m\u001b[0m\u001b[1;33m\u001b[0m\u001b[0m\n\u001b[0m\u001b[0;32m      8\u001b[0m \u001b[1;33m\u001b[0m\u001b[0m\n",
      "\u001b[1;31mNameError\u001b[0m: name 'rate_aggressiveness' is not defined"
     ]
    }
   ],
   "source": [
    "com_session_df = pd.read_csv('kns_csv_files/kns_committeesession.csv')\n",
    "com_session_df = com_session_df[com_session_df['CommitteeID'].isin(commitee_ids)]\n",
    "\n",
    "com_session_df.dropna(subset=['text_parsed_filename'], inplace=True)\n",
    "text_paths = com_session_df['text_parsed_filename'].to_list()\n",
    "texts = [get_meeting_protocol_text(path) for path in text_paths]\n",
    "agg_scores = [rate_aggressiveness(text) for text in texts]\n",
    "\n"
   ]
  },
  {
   "cell_type": "code",
   "execution_count": null,
   "metadata": {},
   "outputs": [],
   "source": [
    "knesset_members_df = pd.read_csv('kns_csv_files/kns_person.csv')\n",
    "first_names, last_names = knesset_members_df['FirstName'].to_list(), knesset_members_df['LastName'].to_list()\n",
    "knesset_members = [' '.join([first_name, last_name]) for first_name, last_name in zip(first_names, last_names)]\n",
    "\n",
    "warnings = {mem: [0, 0, 0] for mem in knesset_members}\n",
    "\n",
    "# handle members with a middle name or a nickname\n",
    "new_first_names, new_last_names = [], []\n",
    "\n",
    "for fn, ln in zip(first_names, last_names):\n",
    "    names = re.findall('\\w+', fn)\n",
    "    \n",
    "    for name in names:\n",
    "        warnings[name + ' ' + ln] = warnings[fn + ' ' + ln]\n",
    "        new_first_names.append(name)\n",
    "        new_last_names.append(ln)\n",
    "\n",
    "# update first and last names\n",
    "first_names = new_first_names\n",
    "last_names = new_last_names\n",
    "\n",
    "knesset_members = [' '.join([first_name, last_name]) for first_name, last_name in zip(first_names, last_names)]"
   ]
  },
  {
   "cell_type": "code",
   "execution_count": null,
   "metadata": {},
   "outputs": [],
   "source": [
    "def get_meeting_warnings(text, warnings, knesset_members) -> None:\n",
    "    \"\"\"\n",
    "    Return warnings from the meeting protocol text.\n",
    "\n",
    "    Parameters\n",
    "    ----------\n",
    "    text : str\n",
    "        Meeting protocol text.\n",
    "\n",
    "    warnings: Dict[str, List[int]]\n",
    "        Number of warnings for each Knesset member.\n",
    "\n",
    "    knesset_members: List[str]\n",
    "        List of Knesset members.\n",
    "    \"\"\"\n",
    "\n",
    "    # find all warnings\n",
    "    matches = re.findall(WARNING_REGEX, text, flags=re.MULTILINE)\n",
    "    print(len(matches))\n",
    "    for i, match in enumerate(matches):\n",
    "        print(f'match #{i}:')\n",
    "        print(match)\n",
    "        sentences = match.split('\\n')\n",
    "        first_sentence, last_sentence = sentences[0], sentences[-1]\n",
    "        for kns_member in knesset_members:\n",
    "            if kns_member in first_sentence:\n",
    "                word2idx = {'ראש': 0, 'שני': 1, 'שליש': 2}\n",
    "                for word, idx in word2idx.items():\n",
    "                    if word in last_sentence:\n",
    "                        warnings[kns_member][idx] += 1\n",
    "                        break\n",
    "    \n",
    "    "
   ]
  },
  {
   "cell_type": "code",
   "execution_count": 51,
   "metadata": {},
   "outputs": [],
   "source": [
    "def filter_protocol_sentences(text: str) -> str:\n",
    "    ind = re.search(\"<< יור >>\", text)\n",
    "    txt2 = text[ind.span()[0]:]\n",
    "    txt2 = re.sub(\"<<.*\",\"\", txt2)\n",
    "    txt2 = re.sub(\">>.*\",\"\", txt2)\n",
    "    txt2 = re.sub(\"-\", \" \", txt2)\n",
    "    txt2 = re.sub(\"\\n\\s+\",\"\\n\", txt2)\n",
    "    txt2 = re.sub(\" +\",\" \", txt2)\n",
    "    return txt2"
   ]
  },
  {
   "cell_type": "code",
   "execution_count": 54,
   "metadata": {},
   "outputs": [],
   "source": [
    "with open('protocols/2159679.txt', 'r', encoding='utf-8') as f:\n",
    "    text = f.read()\n",
    "filtered_text = filter_protocol_sentences(text)\n",
    "with open('filtered_protocols/2159679.txt', 'w', encoding='utf-8') as f:\n",
    "    f.write(filtered_text)"
   ]
  },
  {
   "attachments": {},
   "cell_type": "markdown",
   "metadata": {},
   "source": [
    "## AlephBert Transfer Learning"
   ]
  },
  {
   "cell_type": "code",
   "execution_count": 9,
   "metadata": {},
   "outputs": [],
   "source": [
    "from transformers import AutoModelForSequenceClassification, AutoTokenizer"
   ]
  },
  {
   "cell_type": "code",
   "execution_count": 40,
   "metadata": {},
   "outputs": [
    {
     "name": "stderr",
     "output_type": "stream",
     "text": [
      "Some weights of the model checkpoint at onlplab/alephbert-base were not used when initializing BertForSequenceClassification: ['cls.predictions.transform.LayerNorm.weight', 'cls.predictions.decoder.weight', 'cls.predictions.transform.dense.weight', 'cls.predictions.bias', 'cls.predictions.transform.dense.bias', 'cls.predictions.transform.LayerNorm.bias', 'cls.predictions.decoder.bias']\n",
      "- This IS expected if you are initializing BertForSequenceClassification from the checkpoint of a model trained on another task or with another architecture (e.g. initializing a BertForSequenceClassification model from a BertForPreTraining model).\n",
      "- This IS NOT expected if you are initializing BertForSequenceClassification from the checkpoint of a model that you expect to be exactly identical (initializing a BertForSequenceClassification model from a BertForSequenceClassification model).\n",
      "Some weights of BertForSequenceClassification were not initialized from the model checkpoint at onlplab/alephbert-base and are newly initialized: ['classifier.bias', 'bert.pooler.dense.weight', 'classifier.weight', 'bert.pooler.dense.bias']\n",
      "You should probably TRAIN this model on a down-stream task to be able to use it for predictions and inference.\n"
     ]
    }
   ],
   "source": [
    "alephbert_tokenizer = AutoTokenizer.from_pretrained('onlplab/alephbert-base')\n",
    "alephbert = AutoModelForSequenceClassification.from_pretrained('onlplab/alephbert-base', num_labels=2)\n",
    "\n",
    "# Freeze the weights of the model\n",
    "for param in list(alephbert.parameters())[:-1]:\n",
    "    param.requires_grad = False"
   ]
  },
  {
   "cell_type": "code",
   "execution_count": 30,
   "metadata": {},
   "outputs": [],
   "source": [
    "class Dataset(torch.utils.data.Dataset):\n",
    "    def __init__(self, texts, labels):\n",
    "        self.texts = texts\n",
    "        self.labels = labels\n",
    "\n",
    "    def __getitem__(self, index):\n",
    "        text = self.texts[index]\n",
    "        label = self.labels[index]\n",
    "        return text, label\n",
    "    \n",
    "    def __len__(self):\n",
    "        return len(self.texts)"
   ]
  },
  {
   "cell_type": "code",
   "execution_count": 31,
   "metadata": {},
   "outputs": [],
   "source": [
    "from sklearn.model_selection import train_test_split\n",
    "agg_scores_df = pd.read_csv('agg_score_bin.csv')\n",
    "agg_scores_df.dropna(inplace=True, ignore_index=True)"
   ]
  },
  {
   "cell_type": "code",
   "execution_count": 32,
   "metadata": {},
   "outputs": [],
   "source": [
    "train_set, test_set = train_test_split(agg_scores_df, test_size=0.2)\n",
    "\n",
    "# Reset the index of each DataFrame\n",
    "train_set.reset_index(drop=True, inplace=True)\n",
    "test_set.reset_index(drop=True, inplace=True)\n",
    "\n",
    "agg_train = Dataset(train_set['text'], train_set['score'])\n",
    "agg_test = Dataset(test_set['text'], test_set['score'])\n",
    "\n",
    "train_dataloader = torch.utils.data.DataLoader(agg_train, batch_size=16, shuffle=True)\n",
    "test_dataloader = torch.utils.data.DataLoader(agg_test, batch_size=16, shuffle=False)"
   ]
  },
  {
   "cell_type": "code",
   "execution_count": 42,
   "metadata": {},
   "outputs": [],
   "source": [
    "from tqdm import tqdm"
   ]
  },
  {
   "cell_type": "code",
   "execution_count": 48,
   "metadata": {},
   "outputs": [
    {
     "name": "stderr",
     "output_type": "stream",
     "text": [
      "  0%|          | 0/23 [00:00<?, ?it/s]"
     ]
    },
    {
     "name": "stdout",
     "output_type": "stream",
     "text": [
      "epoch 0\n"
     ]
    },
    {
     "name": "stderr",
     "output_type": "stream",
     "text": [
      "100%|██████████| 23/23 [01:51<00:00,  4.86s/it]\n",
      "  0%|          | 0/23 [00:00<?, ?it/s]"
     ]
    },
    {
     "name": "stdout",
     "output_type": "stream",
     "text": [
      "epoch 1\n"
     ]
    },
    {
     "name": "stderr",
     "output_type": "stream",
     "text": [
      "100%|██████████| 23/23 [01:29<00:00,  3.91s/it]\n",
      "  0%|          | 0/23 [00:00<?, ?it/s]"
     ]
    },
    {
     "name": "stdout",
     "output_type": "stream",
     "text": [
      "epoch 2\n"
     ]
    },
    {
     "name": "stderr",
     "output_type": "stream",
     "text": [
      "100%|██████████| 23/23 [02:03<00:00,  5.35s/it]\n",
      "  0%|          | 0/23 [00:00<?, ?it/s]"
     ]
    },
    {
     "name": "stdout",
     "output_type": "stream",
     "text": [
      "epoch 3\n"
     ]
    },
    {
     "name": "stderr",
     "output_type": "stream",
     "text": [
      "100%|██████████| 23/23 [01:49<00:00,  4.74s/it]\n",
      "  0%|          | 0/23 [00:00<?, ?it/s]"
     ]
    },
    {
     "name": "stdout",
     "output_type": "stream",
     "text": [
      "epoch 4\n"
     ]
    },
    {
     "name": "stderr",
     "output_type": "stream",
     "text": [
      "100%|██████████| 23/23 [04:33<00:00, 11.87s/it]\n",
      "  0%|          | 0/23 [00:00<?, ?it/s]"
     ]
    },
    {
     "name": "stdout",
     "output_type": "stream",
     "text": [
      "epoch 5\n"
     ]
    },
    {
     "name": "stderr",
     "output_type": "stream",
     "text": [
      "100%|██████████| 23/23 [02:25<00:00,  6.32s/it]\n",
      "  0%|          | 0/23 [00:00<?, ?it/s]"
     ]
    },
    {
     "name": "stdout",
     "output_type": "stream",
     "text": [
      "epoch 6\n"
     ]
    },
    {
     "name": "stderr",
     "output_type": "stream",
     "text": [
      "100%|██████████| 23/23 [02:20<00:00,  6.12s/it]\n",
      "  0%|          | 0/23 [00:00<?, ?it/s]"
     ]
    },
    {
     "name": "stdout",
     "output_type": "stream",
     "text": [
      "epoch 7\n"
     ]
    },
    {
     "name": "stderr",
     "output_type": "stream",
     "text": [
      "100%|██████████| 23/23 [02:27<00:00,  6.39s/it]\n",
      "  0%|          | 0/23 [00:00<?, ?it/s]"
     ]
    },
    {
     "name": "stdout",
     "output_type": "stream",
     "text": [
      "epoch 8\n"
     ]
    },
    {
     "name": "stderr",
     "output_type": "stream",
     "text": [
      "100%|██████████| 23/23 [03:11<00:00,  8.33s/it]\n",
      "  0%|          | 0/23 [00:00<?, ?it/s]"
     ]
    },
    {
     "name": "stdout",
     "output_type": "stream",
     "text": [
      "epoch 9\n"
     ]
    },
    {
     "name": "stderr",
     "output_type": "stream",
     "text": [
      "100%|██████████| 23/23 [02:34<00:00,  6.72s/it]\n",
      "  0%|          | 0/23 [00:00<?, ?it/s]"
     ]
    },
    {
     "name": "stdout",
     "output_type": "stream",
     "text": [
      "epoch 10\n"
     ]
    },
    {
     "name": "stderr",
     "output_type": "stream",
     "text": [
      "100%|██████████| 23/23 [02:04<00:00,  5.42s/it]\n",
      "  0%|          | 0/23 [00:00<?, ?it/s]"
     ]
    },
    {
     "name": "stdout",
     "output_type": "stream",
     "text": [
      "epoch 11\n"
     ]
    },
    {
     "name": "stderr",
     "output_type": "stream",
     "text": [
      "100%|██████████| 23/23 [02:06<00:00,  5.50s/it]\n",
      "  0%|          | 0/23 [00:00<?, ?it/s]"
     ]
    },
    {
     "name": "stdout",
     "output_type": "stream",
     "text": [
      "epoch 12\n"
     ]
    },
    {
     "name": "stderr",
     "output_type": "stream",
     "text": [
      "100%|██████████| 23/23 [02:31<00:00,  6.61s/it]\n",
      "  0%|          | 0/23 [00:00<?, ?it/s]"
     ]
    },
    {
     "name": "stdout",
     "output_type": "stream",
     "text": [
      "epoch 13\n"
     ]
    },
    {
     "name": "stderr",
     "output_type": "stream",
     "text": [
      "100%|██████████| 23/23 [01:25<00:00,  3.73s/it]\n",
      "  0%|          | 0/23 [00:00<?, ?it/s]"
     ]
    },
    {
     "name": "stdout",
     "output_type": "stream",
     "text": [
      "epoch 14\n"
     ]
    },
    {
     "name": "stderr",
     "output_type": "stream",
     "text": [
      "100%|██████████| 23/23 [01:20<00:00,  3.48s/it]\n",
      "  0%|          | 0/23 [00:00<?, ?it/s]"
     ]
    },
    {
     "name": "stdout",
     "output_type": "stream",
     "text": [
      "epoch 15\n"
     ]
    },
    {
     "name": "stderr",
     "output_type": "stream",
     "text": [
      "100%|██████████| 23/23 [01:31<00:00,  3.98s/it]\n",
      "  0%|          | 0/23 [00:00<?, ?it/s]"
     ]
    },
    {
     "name": "stdout",
     "output_type": "stream",
     "text": [
      "epoch 16\n"
     ]
    },
    {
     "name": "stderr",
     "output_type": "stream",
     "text": [
      "100%|██████████| 23/23 [01:11<00:00,  3.12s/it]\n",
      "  0%|          | 0/23 [00:00<?, ?it/s]"
     ]
    },
    {
     "name": "stdout",
     "output_type": "stream",
     "text": [
      "epoch 17\n"
     ]
    },
    {
     "name": "stderr",
     "output_type": "stream",
     "text": [
      "100%|██████████| 23/23 [01:10<00:00,  3.08s/it]\n",
      "  0%|          | 0/23 [00:00<?, ?it/s]"
     ]
    },
    {
     "name": "stdout",
     "output_type": "stream",
     "text": [
      "epoch 18\n"
     ]
    },
    {
     "name": "stderr",
     "output_type": "stream",
     "text": [
      "100%|██████████| 23/23 [01:21<00:00,  3.53s/it]\n",
      "  0%|          | 0/23 [00:00<?, ?it/s]"
     ]
    },
    {
     "name": "stdout",
     "output_type": "stream",
     "text": [
      "epoch 19\n"
     ]
    },
    {
     "name": "stderr",
     "output_type": "stream",
     "text": [
      "100%|██████████| 23/23 [01:25<00:00,  3.71s/it]\n",
      "  0%|          | 0/23 [00:00<?, ?it/s]"
     ]
    },
    {
     "name": "stdout",
     "output_type": "stream",
     "text": [
      "epoch 20\n"
     ]
    },
    {
     "name": "stderr",
     "output_type": "stream",
     "text": [
      "100%|██████████| 23/23 [01:49<00:00,  4.75s/it]\n",
      "  0%|          | 0/23 [00:00<?, ?it/s]"
     ]
    },
    {
     "name": "stdout",
     "output_type": "stream",
     "text": [
      "epoch 21\n"
     ]
    },
    {
     "name": "stderr",
     "output_type": "stream",
     "text": [
      "100%|██████████| 23/23 [01:41<00:00,  4.40s/it]\n",
      "  0%|          | 0/23 [00:00<?, ?it/s]"
     ]
    },
    {
     "name": "stdout",
     "output_type": "stream",
     "text": [
      "epoch 22\n"
     ]
    },
    {
     "name": "stderr",
     "output_type": "stream",
     "text": [
      "100%|██████████| 23/23 [01:35<00:00,  4.14s/it]\n",
      "  0%|          | 0/23 [00:00<?, ?it/s]"
     ]
    },
    {
     "name": "stdout",
     "output_type": "stream",
     "text": [
      "epoch 23\n"
     ]
    },
    {
     "name": "stderr",
     "output_type": "stream",
     "text": [
      "100%|██████████| 23/23 [01:29<00:00,  3.88s/it]\n",
      "  0%|          | 0/23 [00:00<?, ?it/s]"
     ]
    },
    {
     "name": "stdout",
     "output_type": "stream",
     "text": [
      "epoch 24\n"
     ]
    },
    {
     "name": "stderr",
     "output_type": "stream",
     "text": [
      "100%|██████████| 23/23 [01:06<00:00,  2.87s/it]\n"
     ]
    }
   ],
   "source": [
    "# Set device\n",
    "device = torch.device(\"cuda\" if torch.cuda.is_available() else \"cpu\")\n",
    "alephbert.to(device)\n",
    "\n",
    "# Set optimizer and loss function\n",
    "optimizer = torch.optim.Adam(alephbert.parameters(), lr=5e-5)\n",
    "criterion = nn.CrossEntropyLoss()\n",
    "\n",
    "# Train model\n",
    "alephbert.train()\n",
    "for epoch in range(5):\n",
    "    print('epoch', epoch)\n",
    "    for texts, scores in tqdm(train_dataloader):\n",
    "        optimizer.zero_grad()\n",
    "        scores = scores.long().to(device)\n",
    "        inputs = alephbert_tokenizer(texts, padding=True, truncation=True, return_tensors='pt').to(device)\n",
    "        outputs = alephbert(**inputs, return_dict=False)[0]\n",
    "\n",
    "        loss = criterion(outputs, scores)\n",
    "        loss.backward()\n",
    "        optimizer.step()\n",
    "\n",
    "    \n"
   ]
  },
  {
   "cell_type": "code",
   "execution_count": 51,
   "metadata": {},
   "outputs": [],
   "source": [
    "torch.save(alephbert, 'model.pt')"
   ]
  },
  {
   "cell_type": "code",
   "execution_count": 49,
   "metadata": {},
   "outputs": [
    {
     "name": "stdout",
     "output_type": "stream",
     "text": [
      "total accuracy on test set: 0.5760869565217391\n"
     ]
    }
   ],
   "source": [
    "# Evaluate model\n",
    "alephbert.eval()\n",
    "preds_df = pd.DataFrame(columns=['predictions', 'scores'])\n",
    "\n",
    "total = 0\n",
    "correct = 0\n",
    "\n",
    "with torch.no_grad():\n",
    "    for texts, scores in test_dataloader:\n",
    "        inputs = alephbert_tokenizer(texts, padding=True, truncation=True, return_tensors='pt').to(device)\n",
    "        scores = scores.to(device)\n",
    "\n",
    "        outputs = alephbert(**inputs, return_dict=False)[0]\n",
    "        _, predicted = torch.max(outputs.data, 1)\n",
    "        total += scores.size(0)\n",
    "        correct += (predicted == scores).sum().item()\n",
    "\n",
    "        # outputs = outputs.reshape((16,))\n",
    "\n",
    "        # agg score is between 1 to 7\n",
    "        # outputs = np.round(outputs)\n",
    "        \n",
    "        d = {'predictions': [o.item() for o in predicted], 'scores': [s.item() for s in scores]}\n",
    "        df = pd.DataFrame.from_dict(d)\n",
    "        preds_df = pd.concat([preds_df, df], ignore_index=True, copy=False)\n",
    "\n",
    "print('total accuracy on test set:', correct/total)"
   ]
  },
  {
   "cell_type": "code",
   "execution_count": null,
   "metadata": {},
   "outputs": [],
   "source": []
  },
  {
   "cell_type": "code",
   "execution_count": 47,
   "metadata": {},
   "outputs": [
    {
     "data": {
      "text/html": [
       "<div>\n",
       "<style scoped>\n",
       "    .dataframe tbody tr th:only-of-type {\n",
       "        vertical-align: middle;\n",
       "    }\n",
       "\n",
       "    .dataframe tbody tr th {\n",
       "        vertical-align: top;\n",
       "    }\n",
       "\n",
       "    .dataframe thead th {\n",
       "        text-align: right;\n",
       "    }\n",
       "</style>\n",
       "<table border=\"1\" class=\"dataframe\">\n",
       "  <thead>\n",
       "    <tr style=\"text-align: right;\">\n",
       "      <th></th>\n",
       "      <th>predictions</th>\n",
       "      <th>scores</th>\n",
       "    </tr>\n",
       "  </thead>\n",
       "  <tbody>\n",
       "    <tr>\n",
       "      <th>count</th>\n",
       "      <td>92</td>\n",
       "      <td>92</td>\n",
       "    </tr>\n",
       "    <tr>\n",
       "      <th>unique</th>\n",
       "      <td>2</td>\n",
       "      <td>2</td>\n",
       "    </tr>\n",
       "    <tr>\n",
       "      <th>top</th>\n",
       "      <td>0</td>\n",
       "      <td>0</td>\n",
       "    </tr>\n",
       "    <tr>\n",
       "      <th>freq</th>\n",
       "      <td>81</td>\n",
       "      <td>49</td>\n",
       "    </tr>\n",
       "  </tbody>\n",
       "</table>\n",
       "</div>"
      ],
      "text/plain": [
       "        predictions  scores\n",
       "count            92      92\n",
       "unique            2       2\n",
       "top               0       0\n",
       "freq             81      49"
      ]
     },
     "execution_count": 47,
     "metadata": {},
     "output_type": "execute_result"
    }
   ],
   "source": [
    "preds_df.describe()"
   ]
  },
  {
   "cell_type": "code",
   "execution_count": null,
   "metadata": {},
   "outputs": [],
   "source": []
  }
 ],
 "metadata": {
  "kernelspec": {
   "display_name": "Python 3.7.6 ('base')",
   "language": "python",
   "name": "python3"
  },
  "language_info": {
   "codemirror_mode": {
    "name": "ipython",
    "version": 3
   },
   "file_extension": ".py",
   "mimetype": "text/x-python",
   "name": "python",
   "nbconvert_exporter": "python",
   "pygments_lexer": "ipython3",
   "version": "3.8.6"
  },
  "orig_nbformat": 4,
  "vscode": {
   "interpreter": {
    "hash": "116ca426afd871d658ee678036fa2f9ff9ea33b2a9b8c09422f19bc5af964702"
   }
  }
 },
 "nbformat": 4,
 "nbformat_minor": 2
}
